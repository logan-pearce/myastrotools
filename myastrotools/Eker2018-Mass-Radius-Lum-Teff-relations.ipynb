{
 "cells": [
  {
   "cell_type": "markdown",
   "metadata": {},
   "source": [
    "Emperical Mass-Radius, Mass-Luminosity, and Mass-Teff relations From Eker et al. 2018\n",
    "\n",
    "MRR, MTR from eqns in Table 5, MLR from Table 4\n",
    "\n",
    "This code reproduces their Figure 7\n"
   ]
  },
  {
   "cell_type": "code",
   "execution_count": 8,
   "metadata": {},
   "outputs": [
    {
     "name": "stdout",
     "output_type": "stream",
     "text": [
      "Help on function EkerMLR in module myastrotools.tools:\n",
      "\n",
      "EkerMLR(M)\n",
      "    Emperical mass-luminosity relation from Eker et al. 2018 Table 4 \n",
      "    (https://academic.oup.com/mnras/article/479/4/5491/5056185)\n",
      "    \n",
      "    Args:\n",
      "        M (flt): mass in solar masses\n",
      "        \n",
      "    Returns:\n",
      "        flt: log(Luminosity) in solar lum\n",
      "\n",
      "Help on function EkerMRR in module myastrotools.tools:\n",
      "\n",
      "EkerMRR(M)\n",
      "    Emperical mass-radius relation from Eker et al. 2018 Table 5 \n",
      "    (https://academic.oup.com/mnras/article/479/4/5491/5056185)\n",
      "    \n",
      "    Args:\n",
      "        M (flt): mass in solar masses\n",
      "        \n",
      "    Returns:\n",
      "        flt: radius in Rsun\n",
      "        flt: uncertainty on radius\n",
      "\n",
      "Help on function EkerMTR in module myastrotools.tools:\n",
      "\n",
      "EkerMTR(M)\n",
      "    Emperical mass-teff relation from Eker et al. 2018 Table 5 \n",
      "    (https://academic.oup.com/mnras/article/479/4/5491/5056185)\n",
      "    \n",
      "    Args:\n",
      "        M (flt): mass in solar masses\n",
      "        \n",
      "    Returns:\n",
      "        flt: Teff in K\n",
      "        flt: uncertainty on teff\n",
      "\n"
     ]
    },
    {
     "data": {
      "text/plain": [
       "(None, None, None)"
      ]
     },
     "execution_count": 8,
     "metadata": {},
     "output_type": "execute_result"
    }
   ],
   "source": [
    "from myastrotools.tools import EkerMLR, EkerMRR, EkerMTR\n",
    "help(EkerMLR), help(EkerMRR), help(EkerMTR)"
   ]
  },
  {
   "cell_type": "code",
   "execution_count": 4,
   "metadata": {},
   "outputs": [
    {
     "data": {
      "image/png": "[encoded data removed]",
      "text/plain": [
       "<Figure size 432x288 with 3 Axes>"
      ]
     },
     "metadata": {
      "needs_background": "light"
     },
     "output_type": "display_data"
    }
   ],
   "source": [
    "\n",
    "\n",
    "masses = np.linspace(0.18,3,100)\n",
    "Ls = []\n",
    "for m in masses:\n",
    "    Ls.append(EkerMLR(m))\n",
    "\n",
    "Teffs = []\n",
    "for m in masses:\n",
    "    Teffs.append(EkerMTR(m)[0])\n",
    "    \n",
    "Rs = []\n",
    "for m in masses:\n",
    "    Rs.append(EkerMRR(m)[0])\n",
    "    \n",
    "%matplotlib inline\n",
    "plt.subplot(311)\n",
    "plt.plot(np.log10(masses),Ls)\n",
    "plt.ylabel('logL')\n",
    "plt.subplot(312)\n",
    "plt.plot(np.log10(masses),np.log10(Rs))\n",
    "plt.ylabel('logR')\n",
    "plt.subplot(313)\n",
    "plt.plot(np.log10(masses),Teffs)\n",
    "plt.ylabel('logT')\n",
    "plt.show()"
   ]
  },
  {
   "cell_type": "markdown",
   "metadata": {},
   "source": []
  }
 ],
 "metadata": {
  "kernelspec": {
   "display_name": "Python 3",
   "language": "python",
   "name": "python3"
  },
  "language_info": {
   "codemirror_mode": {
    "name": "ipython",
    "version": 3
   },
   "file_extension": ".py",
   "mimetype": "text/x-python",
   "name": "python",
   "nbconvert_exporter": "python",
   "pygments_lexer": "ipython3",
   "version": "3.8.5"
  },
  "vscode": {
   "interpreter": {
    "hash": "febc8db3e1a5f37e37fde2ff03360fb36a778c766f3c71a2e5ef3686c655f21f"
   }
  }
 },
 "nbformat": 4,
 "nbformat_minor": 2
}
